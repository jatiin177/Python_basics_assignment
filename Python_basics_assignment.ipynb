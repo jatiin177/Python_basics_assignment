{
 "cells": [
  {
   "cell_type": "code",
   "execution_count": null,
   "id": "0d0d778a-c353-45e5-b3af-256e24977030",
   "metadata": {},
   "outputs": [],
   "source": [
    "Python Basics Questions"
   ]
  },
  {
   "cell_type": "code",
   "execution_count": null,
   "id": "5b606c25-ad56-49ab-911d-7c6b66760f8f",
   "metadata": {},
   "outputs": [],
   "source": [
    "Q1. What is Python, and why is it popular?\n",
    "\n",
    "Ans- Python is a programming language which is simple and easy to understand language which feels like reading simpl english. \n",
    "     This Pseudo code nature of python makes it easy to learn and understable for beginners.\n",
    "     Python has an active, supportive community.It is well suited to data science and analytics.It is efficient, fast, and reliable.\n",
    "     Python’s cross-platform compatibility and integration with other technologies further boost its popularity. \n",
    "     Companies like Google and Netflix rely on Python, and its demand in industries like AI and data analytics makes it a top choice for developers and learners."
   ]
  },
  {
   "cell_type": "code",
   "execution_count": null,
   "id": "609a71ed-d5b1-4033-a223-4241b808ded3",
   "metadata": {},
   "outputs": [],
   "source": [
    "Q2. What is an interpreter in Python?\n",
    "\n",
    "Ans- A python interpreter is a computer program that converts each high-level program statement into machine code.\n",
    "     Unlike compilers, which translate the entire program into machine code before execution, interpreters execute the code directly, making it easier to debug and test."
   ]
  },
  {
   "cell_type": "code",
   "execution_count": null,
   "id": "c58f8665-682e-4337-b3e7-6dcde748a890",
   "metadata": {},
   "outputs": [],
   "source": [
    "Q3. What are pre-defined keywords in Python?\n",
    "\n",
    "Ans- Pre-defined keywords in python.\n",
    "\n",
    "False               class               from                or\n",
    "None                continue            global              pass\n",
    "True                def                 if                  raise\n",
    "and                 del                 import              return\n",
    "as                  elif                in                  try\n",
    "assert              else                is                  while\n",
    "async               except              lambda              with\n",
    "await               finally             nonlocal            yield\n",
    "break               for                 not                 "
   ]
  },
  {
   "cell_type": "code",
   "execution_count": null,
   "id": "af99de84-8929-4898-8163-720a75573451",
   "metadata": {},
   "outputs": [],
   "source": [
    "Q4. Can keywords be used as variable names?\n",
    "\n",
    "Ans- No, Keywords cannot be used as variable names because they are reserved words in a programming language and have predefined meanings.\n",
    "      For example, if, def, and True are keywords and cannot be reassigned."
   ]
  },
  {
   "cell_type": "code",
   "execution_count": null,
   "id": "636e2c14-36c3-4d98-8fb0-99d9287e37bf",
   "metadata": {},
   "outputs": [],
   "source": [
    "Q5. What is mutability in Python?\n",
    "\n",
    "Ans- Mutability refers to data types that can be accessed and changed after they have been created and stored in memory. \n",
    "     Example- lists,dictionaries."
   ]
  },
  {
   "cell_type": "code",
   "execution_count": null,
   "id": "702e8de1-3e6a-431c-9ff3-57b82d40f5af",
   "metadata": {},
   "outputs": [],
   "source": [
    "Q6. Why are lists mutable, but tuples are immutable?\n",
    "\n",
    "Ans- Lists are mutable because lists can be accessed and changed after they have been created and stored in memory. \n",
    "     While tuples are immutable because data stored in tuples cannot be accessed or changed after they have been created and stored in memory.\n"
   ]
  },
  {
   "cell_type": "code",
   "execution_count": null,
   "id": "49b82508-a882-4b63-aa54-ec419795e11f",
   "metadata": {},
   "outputs": [],
   "source": [
    "Q7. What is the difference between “==” and “is” operators in Python?\n",
    "\n",
    "Ans- The == operator is a comparision operator which is used to compares two different values.\n",
    "     While 'is' operator is a assignment operator which is used to assign a value to variable and it compares the identity of two objects."
   ]
  },
  {
   "cell_type": "code",
   "execution_count": null,
   "id": "92882dc1-03e1-4842-9f2a-493b562c5263",
   "metadata": {},
   "outputs": [],
   "source": [
    "Q8. What are logical operators in Python?\n",
    "\n",
    "Ans- Logical operators are used to combine conditional statements, allowing you to perform operations based on multiple conditions.\n",
    "     Example- AND, OR, NOT.\n"
   ]
  },
  {
   "cell_type": "code",
   "execution_count": 14,
   "id": "23b7d3bc-1649-4029-89f4-497e32d09fc8",
   "metadata": {},
   "outputs": [
    {
     "data": {
      "text/plain": [
       "True"
      ]
     },
     "execution_count": 14,
     "metadata": {},
     "output_type": "execute_result"
    }
   ],
   "source": [
    "#and operator\n",
    "True and True"
   ]
  },
  {
   "cell_type": "code",
   "execution_count": 16,
   "id": "ab97a0e5-e4bb-43fe-8e24-999449b17065",
   "metadata": {},
   "outputs": [
    {
     "data": {
      "text/plain": [
       "False"
      ]
     },
     "execution_count": 16,
     "metadata": {},
     "output_type": "execute_result"
    }
   ],
   "source": [
    "False and False"
   ]
  },
  {
   "cell_type": "code",
   "execution_count": 18,
   "id": "707649d3-dd0e-4412-9b05-992641fa2e8d",
   "metadata": {},
   "outputs": [
    {
     "data": {
      "text/plain": [
       "False"
      ]
     },
     "execution_count": 18,
     "metadata": {},
     "output_type": "execute_result"
    }
   ],
   "source": [
    "True and False"
   ]
  },
  {
   "cell_type": "code",
   "execution_count": 20,
   "id": "5f5c6118-3f81-4965-8372-4372cea8e050",
   "metadata": {},
   "outputs": [
    {
     "data": {
      "text/plain": [
       "True"
      ]
     },
     "execution_count": 20,
     "metadata": {},
     "output_type": "execute_result"
    }
   ],
   "source": [
    "#or operator\n",
    "True or False"
   ]
  },
  {
   "cell_type": "code",
   "execution_count": 24,
   "id": "01959f78-1b86-4b05-afd3-a364061a851a",
   "metadata": {},
   "outputs": [
    {
     "data": {
      "text/plain": [
       "False"
      ]
     },
     "execution_count": 24,
     "metadata": {},
     "output_type": "execute_result"
    }
   ],
   "source": [
    "False or False"
   ]
  },
  {
   "cell_type": "code",
   "execution_count": 26,
   "id": "cb76d8c1-a50b-4b72-a36e-2d7d5b1eb9cd",
   "metadata": {},
   "outputs": [
    {
     "data": {
      "text/plain": [
       "True"
      ]
     },
     "execution_count": 26,
     "metadata": {},
     "output_type": "execute_result"
    }
   ],
   "source": [
    "True and True"
   ]
  },
  {
   "cell_type": "code",
   "execution_count": 28,
   "id": "9fb6ba62-c6e4-4970-9d54-53ae6a009f93",
   "metadata": {},
   "outputs": [
    {
     "data": {
      "text/plain": [
       "False"
      ]
     },
     "execution_count": 28,
     "metadata": {},
     "output_type": "execute_result"
    }
   ],
   "source": [
    "#not operator\n",
    "not True"
   ]
  },
  {
   "cell_type": "code",
   "execution_count": 30,
   "id": "032ddac9-1811-4ec2-b430-671081b595f3",
   "metadata": {},
   "outputs": [
    {
     "data": {
      "text/plain": [
       "True"
      ]
     },
     "execution_count": 30,
     "metadata": {},
     "output_type": "execute_result"
    }
   ],
   "source": [
    "not False"
   ]
  },
  {
   "cell_type": "code",
   "execution_count": null,
   "id": "a3a88916-a6a1-4644-b116-926bbd9b0bb1",
   "metadata": {},
   "outputs": [],
   "source": [
    "Q9. What is type casting in Python?\n",
    "\n",
    "Ans- Type casting is the process of changing one data type to another in Python.\n",
    "     It is often necessary for performing arithmetic operations, data manipulation, and input/output operations in Python programs.\n",
    "     Python provides built-in functions for type casting, such as int(), float(), str(), list(), tuple(), dict(), etc.\n",
    "     int(): Converts a value to an integer.\n",
    "     float(): Converts a value to a float.\n",
    "     str(): Converts a value to a string.\n",
    "     list(): Converts a value to a list.\n",
    "     tuple(): Converts a value to a tuple. "
   ]
  },
  {
   "cell_type": "code",
   "execution_count": null,
   "id": "75dc9e69-9c42-41f8-8a35-6c182609ccad",
   "metadata": {},
   "outputs": [],
   "source": [
    "Q10. What is the difference between implicit and explicit type casting?\n",
    "\n",
    "Ans- Implicit conversion is handled automatically by the compiler.\n",
    "     Example: When adding an integer to a float, Python automatically converts the integer to a float. 5 + 3.2 results in 8.2 because the integer 5 is implicitly converted to a float.\n",
    "     While Explicit type conversion in programming is done manually by the programmer.\n",
    "     Example: Converting a string to an integer using int(): int(\"10\") explicitly converts the string \"10\" to the integer 10."
   ]
  },
  {
   "cell_type": "code",
   "execution_count": null,
   "id": "34b381ca-6655-495e-82db-1654a7f34ce2",
   "metadata": {},
   "outputs": [],
   "source": [
    "Q11. What is the purpose of conditional statements in Python?\n",
    "\n",
    "Ans- The purpose of conditional statements in Python is to control the flow of code by determining if a certain condition is met before executing code.\n",
    "     Conditional Statements in Python:\n",
    "     -> if statement: Executes a block of code if a condition is True.\n",
    "        Example: If a number is positive, print \"Positive\".\n",
    "     ->elif statement: Stands for \"else if\" and allows checking multiple conditions if the initial if condition is False.\n",
    "        Example: If a number is negative, print \"Negative\", otherwise print \"Zero\".\n",
    "     ->else statement: Executes a block of code if none of the preceding conditions (if or elif) are True.\n",
    "        Example: If the number is neither positive nor negative, print \"Zero\"."
   ]
  },
  {
   "cell_type": "code",
   "execution_count": null,
   "id": "6df8c036-c64f-49bf-a94f-19d49f46f8b2",
   "metadata": {},
   "outputs": [],
   "source": [
    "Q12. How does the elif statement work?\n",
    "\n",
    "Ans- Elif stands for else if and is used in Python programming to test multiple conditions."
   ]
  },
  {
   "cell_type": "code",
   "execution_count": 40,
   "id": "6e5970ed-b8de-4656-ac5d-7ade2216ab32",
   "metadata": {},
   "outputs": [
    {
     "name": "stdout",
     "output_type": "stream",
     "text": [
      "Entry is allowed with the approval of parents in the club\n"
     ]
    }
   ],
   "source": [
    "#Example-\n",
    "age = 18\n",
    "if age < 18:\n",
    "    print(\"Entry is not allowed int the club\")\n",
    "elif age == 18:\n",
    "    print(\"Entry is allowed with the approval of parents in the club\")\n",
    "else:\n",
    "    print(\"Entry is allowed\")"
   ]
  },
  {
   "cell_type": "code",
   "execution_count": null,
   "id": "9b98b3fd-ff81-4420-b90d-b997eb20413f",
   "metadata": {},
   "outputs": [],
   "source": [
    "Q13. What is the difference between for and while loops?\n",
    "\n",
    "Ans- The for loop and the while loop in Python are both used to repeat a block of code, but they differ in how the loop conditions are structured and\n",
    "     when they are used.\n",
    "    Python offers two primary types of loops: \n",
    "     1.for loops\n",
    "      ->“for” loops are used for iterating over a sequence of elements.\n",
    "     \n",
    "    2.while loops\n",
    "     ->“while” loops are used for executing code until a specified condition becomes False.\n",
    "    "
   ]
  },
  {
   "cell_type": "code",
   "execution_count": null,
   "id": "d9771de3-a418-4186-8faa-f43d81acafef",
   "metadata": {},
   "outputs": [],
   "source": [
    "Q14. Describe a scenario where a while loop is more suitable than a for loop.\n",
    "\n",
    "Ans- A while loop is more suitable than a for loop when you need to repeat an action until a certain condition is met, \n",
    "     but you don't know in advance how many iterations are required. \n",
    "     It’s ideal for situations where the stopping condition is dynamic or based on some event that happens during the loop.\n",
    "\n",
    "    Scenario : Waiting for User Input\n",
    "\n",
    "    -> Imagine you're creating a program that repeatedly asks the user to enter a valid password.\n",
    "       You don't know how many attempts it will take for the user to enter the correct password, so a while loop is a better choice.\n",
    "\n",
    "    Use Case : The program keeps asking for input until the user provides the correct password. \n",
    "               In this case, you don't know beforehand how many times the user will need to try, \n",
    "               so a while loop is ideal because it keeps running as long as the condition (entered password is not correct) remains true.\n",
    "\n",
    "    Why while loop works : The number of iterations depends on the user’s input and can vary, \n",
    "                           so the condition (whether the password is correct or not) controls the loop, \n",
    "                           rather than iterating a fixed number of times as with a for loop. bold text bold text\n"
   ]
  },
  {
   "cell_type": "code",
   "execution_count": null,
   "id": "186c8c64-306f-4eca-8ddc-3ae4f2b9a40c",
   "metadata": {},
   "outputs": [],
   "source": [
    "######Practical Questions########"
   ]
  },
  {
   "cell_type": "code",
   "execution_count": null,
   "id": "36b8a089-2f90-400f-8620-a118f5eb1a19",
   "metadata": {},
   "outputs": [],
   "source": [
    "Q1. Write a Python program to print \"Hello, World!?"
   ]
  },
  {
   "cell_type": "code",
   "execution_count": 3,
   "id": "2e98d710-a7e0-433f-940b-2ba21825b668",
   "metadata": {},
   "outputs": [
    {
     "name": "stdout",
     "output_type": "stream",
     "text": [
      "Hello, World!\n"
     ]
    }
   ],
   "source": [
    "print(\"Hello, World!\")"
   ]
  },
  {
   "cell_type": "code",
   "execution_count": null,
   "id": "f8029440-100e-4edb-a3f2-49769005a8b6",
   "metadata": {},
   "outputs": [],
   "source": [
    "Q2. Write a Python program that displays your name and age?"
   ]
  },
  {
   "cell_type": "code",
   "execution_count": 7,
   "id": "037ae3a2-3528-4ca2-97a9-7b85ecc5b8a8",
   "metadata": {},
   "outputs": [
    {
     "name": "stdin",
     "output_type": "stream",
     "text": [
      "Name Jatin\n",
      " Age 22\n"
     ]
    }
   ],
   "source": [
    "Name = input(\"Name\")\n",
    "Age = input(\" Age\")"
   ]
  },
  {
   "cell_type": "code",
   "execution_count": null,
   "id": "1f0c0b71-df4c-44c7-9e67-17e470a8412c",
   "metadata": {},
   "outputs": [],
   "source": [
    "Q3. Write code to print all the pre-defined keywords in Python using the keyword library?"
   ]
  },
  {
   "cell_type": "code",
   "execution_count": 9,
   "id": "72802ea7-42f0-4a5b-bbd6-0320554e9db0",
   "metadata": {},
   "outputs": [
    {
     "name": "stdout",
     "output_type": "stream",
     "text": [
      "\n",
      "Here is a list of the Python keywords.  Enter any keyword to get more help.\n",
      "\n",
      "False               class               from                or\n",
      "None                continue            global              pass\n",
      "True                def                 if                  raise\n",
      "and                 del                 import              return\n",
      "as                  elif                in                  try\n",
      "assert              else                is                  while\n",
      "async               except              lambda              with\n",
      "await               finally             nonlocal            yield\n",
      "break               for                 not                 \n",
      "\n"
     ]
    }
   ],
   "source": [
    "help(\"keywords\")"
   ]
  },
  {
   "cell_type": "code",
   "execution_count": null,
   "id": "92590690-f872-4bac-81f3-843d285a7fdc",
   "metadata": {},
   "outputs": [],
   "source": [
    "Q4. Write a program that checks if a given word is a Python keyword?"
   ]
  },
  {
   "cell_type": "code",
   "execution_count": 38,
   "id": "1cc38464-b8c2-41b4-8d5d-279e9a85dcb1",
   "metadata": {},
   "outputs": [
    {
     "name": "stdout",
     "output_type": "stream",
     "text": [
      "True\n",
      "False\n"
     ]
    }
   ],
   "source": [
    "print(keyword.iskeyword(\"while\"))\n",
    "print(keyword.iskeyword(\"jatin\")) #\"jatin\" is not a keyword"
   ]
  },
  {
   "cell_type": "code",
   "execution_count": null,
   "id": "61005579-e612-4ac0-80d8-bd5ea50777ff",
   "metadata": {},
   "outputs": [],
   "source": [
    "Q5. Create a list and tuple in Python, and demonstrate how attempting to change an element works differently\n",
    "for each."
   ]
  },
  {
   "cell_type": "code",
   "execution_count": 13,
   "id": "6fe92b91-8177-4fb6-9fed-34d30f0b7dfc",
   "metadata": {},
   "outputs": [
    {
     "name": "stdout",
     "output_type": "stream",
     "text": [
      "('Sunday', 'Tuesdy', 'Thursday', 'Friday', 'Saturday', 'Sunday')\n"
     ]
    }
   ],
   "source": [
    "#create a tuple and change an element\n",
    "days = (\"Monday\",\"Tuesdy\",\"Thursday\",\"Friday\",\"Saturday\",\"Sunday\")\n",
    "t = list(days)\n",
    "t[0] = \"Sunday\"\n",
    "days = tuple(t)\n",
    "print(days)"
   ]
  },
  {
   "cell_type": "code",
   "execution_count": 15,
   "id": "f7d6d07a-f288-4692-af6f-a95fbf1201c2",
   "metadata": {},
   "outputs": [
    {
     "name": "stdout",
     "output_type": "stream",
     "text": [
      "['kiwi', 'banana', 'mango']\n"
     ]
    }
   ],
   "source": [
    "#create a list and change an element\n",
    "fruits = [\"apple\",\"banana\",\"mango\",]\n",
    "fruits[0] = \"kiwi\"\n",
    "print(fruits)"
   ]
  },
  {
   "cell_type": "code",
   "execution_count": null,
   "id": "915cd7ff-0692-40a7-b9ea-d4a3939c004e",
   "metadata": {},
   "outputs": [],
   "source": [
    "Q6. Write a function to demonstrate the behavior of mutable and immutable arguments."
   ]
  },
  {
   "cell_type": "code",
   "execution_count": 21,
   "id": "25f9501d-f8b9-44dc-acb1-3c0de76de299",
   "metadata": {},
   "outputs": [
    {
     "name": "stdout",
     "output_type": "stream",
     "text": [
      "['6', '2', '3', '4', '5']\n"
     ]
    },
    {
     "ename": "TypeError",
     "evalue": "'tuple' object does not support item assignment",
     "output_type": "error",
     "traceback": [
      "\u001b[1;31m---------------------------------------------------------------------------\u001b[0m",
      "\u001b[1;31mTypeError\u001b[0m                                 Traceback (most recent call last)",
      "Cell \u001b[1;32mIn[21], line 8\u001b[0m\n\u001b[0;32m      6\u001b[0m \u001b[38;5;66;03m#tuple>> it is a immutable\u001b[39;00m\n\u001b[0;32m      7\u001b[0m tuple1 \u001b[38;5;241m=\u001b[39m (\u001b[38;5;124m\"\u001b[39m\u001b[38;5;124ma\u001b[39m\u001b[38;5;124m\"\u001b[39m,\u001b[38;5;124m\"\u001b[39m\u001b[38;5;124mb\u001b[39m\u001b[38;5;124m\"\u001b[39m,\u001b[38;5;124m\"\u001b[39m\u001b[38;5;124mc\u001b[39m\u001b[38;5;124m\"\u001b[39m,\u001b[38;5;124m\"\u001b[39m\u001b[38;5;124md\u001b[39m\u001b[38;5;124m\"\u001b[39m)\n\u001b[1;32m----> 8\u001b[0m tuple1[\u001b[38;5;241m0\u001b[39m] \u001b[38;5;241m=\u001b[39m \u001b[38;5;124m\"\u001b[39m\u001b[38;5;124me\u001b[39m\u001b[38;5;124m\"\u001b[39m\n\u001b[0;32m      9\u001b[0m \u001b[38;5;28mprint\u001b[39m(tuple1)\n",
      "\u001b[1;31mTypeError\u001b[0m: 'tuple' object does not support item assignment"
     ]
    }
   ],
   "source": [
    "#list >> it is a mutable\n",
    "list1 = [\"1\",\"2\",\"3\",\"4\",\"5\"]\n",
    "list1[0] = \"6\"\n",
    "print(list1)\n",
    "\n",
    "#tuple>> it is a immutable\n",
    "tuple1 = (\"a\",\"b\",\"c\",\"d\")\n",
    "tuple1[0] = \"e\"\n",
    "print(tuple1) #\"tuple\" object does not support item assignment\n",
    "\n",
    "\n"
   ]
  },
  {
   "cell_type": "code",
   "execution_count": null,
   "id": "59c2cd32-cbef-4204-bdd2-079c20986b1d",
   "metadata": {},
   "outputs": [],
   "source": [
    "Q7. Write a function to demonstrate the behavior of mutable and immutable arguments."
   ]
  },
  {
   "cell_type": "code",
   "execution_count": 44,
   "id": "4f9f9b6e-02bb-4492-90d4-bfe693fa7a4f",
   "metadata": {},
   "outputs": [
    {
     "name": "stdout",
     "output_type": "stream",
     "text": [
      "['potato', 'banana', 'orange', 'mango', 'strawberry']\n"
     ]
    },
    {
     "ename": "TypeError",
     "evalue": "'tuple' object does not support item assignment",
     "output_type": "error",
     "traceback": [
      "\u001b[1;31m---------------------------------------------------------------------------\u001b[0m",
      "\u001b[1;31mTypeError\u001b[0m                                 Traceback (most recent call last)",
      "Cell \u001b[1;32mIn[44], line 8\u001b[0m\n\u001b[0;32m      6\u001b[0m \u001b[38;5;66;03m#tuple>> it is a immutable\u001b[39;00m\n\u001b[0;32m      7\u001b[0m tuple1 \u001b[38;5;241m=\u001b[39m (\u001b[38;5;124m\"\u001b[39m\u001b[38;5;124m1\u001b[39m\u001b[38;5;124m\"\u001b[39m,\u001b[38;5;124m\"\u001b[39m\u001b[38;5;124m2\u001b[39m\u001b[38;5;124m\"\u001b[39m,\u001b[38;5;124m\"\u001b[39m\u001b[38;5;124m3\u001b[39m\u001b[38;5;124m\"\u001b[39m,\u001b[38;5;124m\"\u001b[39m\u001b[38;5;124m4\u001b[39m\u001b[38;5;124m\"\u001b[39m)\n\u001b[1;32m----> 8\u001b[0m tuple1[\u001b[38;5;241m0\u001b[39m] \u001b[38;5;241m=\u001b[39m \u001b[38;5;124m\"\u001b[39m\u001b[38;5;124me\u001b[39m\u001b[38;5;124m\"\u001b[39m\n\u001b[0;32m      9\u001b[0m \u001b[38;5;28mprint\u001b[39m(tuple1)\n",
      "\u001b[1;31mTypeError\u001b[0m: 'tuple' object does not support item assignment"
     ]
    }
   ],
   "source": [
    "#list >> it is a mutable\n",
    "list1 = [\"apple\",\"banana\",\"orange\",\"mango\",\"strawberry\"]\n",
    "list1[0] = \"potato\"\n",
    "print(list1)\n",
    "\n",
    "#tuple>> it is a immutable\n",
    "tuple1 = (\"1\",\"2\",\"3\",\"4\")\n",
    "tuple1[0] = \"e\"\n",
    "print(tuple1) #\"tuple\" object does not support item assignment"
   ]
  },
  {
   "cell_type": "code",
   "execution_count": null,
   "id": "9dc4cb79-0345-4aa5-bfa0-a72a4f8d35f8",
   "metadata": {},
   "outputs": [],
   "source": [
    "Q8. Write a program to demonstrate the use of logical operators?"
   ]
  },
  {
   "cell_type": "code",
   "execution_count": null,
   "id": "220698c8-63b4-48b1-b7e7-04621ffd3cbc",
   "metadata": {},
   "outputs": [],
   "source": [
    "#logical operators >>> \n",
    "#AND operator\n",
    "#OR operator\n",
    "#NOT operator\n",
    "\n"
   ]
  },
  {
   "cell_type": "code",
   "execution_count": 10,
   "id": "e877da3d-035f-4903-91b6-d099bee3d4ca",
   "metadata": {},
   "outputs": [
    {
     "data": {
      "text/plain": [
       "True"
      ]
     },
     "execution_count": 10,
     "metadata": {},
     "output_type": "execute_result"
    }
   ],
   "source": [
    "#AND operator>>\n",
    "True and True"
   ]
  },
  {
   "cell_type": "code",
   "execution_count": 12,
   "id": "2c1d1296-6a6b-4122-9b35-65e11a9672a4",
   "metadata": {},
   "outputs": [
    {
     "data": {
      "text/plain": [
       "False"
      ]
     },
     "execution_count": 12,
     "metadata": {},
     "output_type": "execute_result"
    }
   ],
   "source": [
    "True and False"
   ]
  },
  {
   "cell_type": "code",
   "execution_count": 14,
   "id": "76569a3e-6268-415a-8232-092268b2b28f",
   "metadata": {},
   "outputs": [
    {
     "data": {
      "text/plain": [
       "False"
      ]
     },
     "execution_count": 14,
     "metadata": {},
     "output_type": "execute_result"
    }
   ],
   "source": [
    "False and False"
   ]
  },
  {
   "cell_type": "code",
   "execution_count": null,
   "id": "0e79cf22-f927-45e0-be6f-a68adeace87e",
   "metadata": {},
   "outputs": [],
   "source": [
    "#OR operator"
   ]
  },
  {
   "cell_type": "code",
   "execution_count": 1,
   "id": "9c95de86-4fba-4d8a-89b9-32a51a4933ba",
   "metadata": {},
   "outputs": [
    {
     "data": {
      "text/plain": [
       "True"
      ]
     },
     "execution_count": 1,
     "metadata": {},
     "output_type": "execute_result"
    }
   ],
   "source": [
    "True or True"
   ]
  },
  {
   "cell_type": "code",
   "execution_count": 3,
   "id": "a5944f83-71c2-41b9-8cc5-060e3f8d2c88",
   "metadata": {},
   "outputs": [
    {
     "data": {
      "text/plain": [
       "True"
      ]
     },
     "execution_count": 3,
     "metadata": {},
     "output_type": "execute_result"
    }
   ],
   "source": [
    "True or False"
   ]
  },
  {
   "cell_type": "code",
   "execution_count": 7,
   "id": "794b301c-11f9-45dd-a048-58485b4a1332",
   "metadata": {},
   "outputs": [
    {
     "data": {
      "text/plain": [
       "False"
      ]
     },
     "execution_count": 7,
     "metadata": {},
     "output_type": "execute_result"
    }
   ],
   "source": [
    "False or False"
   ]
  },
  {
   "cell_type": "code",
   "execution_count": 9,
   "id": "15c4360c-99aa-46c0-b52d-1f51bb44aa4d",
   "metadata": {},
   "outputs": [
    {
     "data": {
      "text/plain": [
       "False"
      ]
     },
     "execution_count": 9,
     "metadata": {},
     "output_type": "execute_result"
    }
   ],
   "source": [
    "#NOT operator\n",
    "not True"
   ]
  },
  {
   "cell_type": "code",
   "execution_count": 11,
   "id": "0402e71d-9a83-4139-996a-5b7a1a29141a",
   "metadata": {},
   "outputs": [
    {
     "data": {
      "text/plain": [
       "True"
      ]
     },
     "execution_count": 11,
     "metadata": {},
     "output_type": "execute_result"
    }
   ],
   "source": [
    "not False"
   ]
  },
  {
   "cell_type": "code",
   "execution_count": null,
   "id": "a9ed0f34-a2ee-45d0-9701-ab58a68a9350",
   "metadata": {},
   "outputs": [],
   "source": [
    "Q9. Write a Python program to convert user input from string to integer, float, and boolean types?"
   ]
  },
  {
   "cell_type": "code",
   "execution_count": 15,
   "id": "75724844-c6e9-4077-b854-7334271e4109",
   "metadata": {},
   "outputs": [
    {
     "name": "stdin",
     "output_type": "stream",
     "text": [
      "number 12\n"
     ]
    },
    {
     "name": "stdout",
     "output_type": "stream",
     "text": [
      "12\n"
     ]
    }
   ],
   "source": [
    "#Convert string into integer\n",
    "a = input(\"number\")\n",
    "b = int(a)\n",
    "print(b)"
   ]
  },
  {
   "cell_type": "code",
   "execution_count": 21,
   "id": "88de6fb2-3dce-47a9-be0f-f04b70724b0d",
   "metadata": {},
   "outputs": [
    {
     "name": "stdin",
     "output_type": "stream",
     "text": [
      "marks 44\n"
     ]
    },
    {
     "name": "stdout",
     "output_type": "stream",
     "text": [
      "44.0\n"
     ]
    }
   ],
   "source": [
    "#Convert string into float\n",
    "a = input(\"marks\")\n",
    "b = float(a)\n",
    "print(b)"
   ]
  },
  {
   "cell_type": "code",
   "execution_count": 25,
   "id": "07bf6721-67dd-46a5-9af4-2c662f43d633",
   "metadata": {},
   "outputs": [
    {
     "name": "stdin",
     "output_type": "stream",
     "text": [
      "number 1\n"
     ]
    },
    {
     "name": "stdout",
     "output_type": "stream",
     "text": [
      "True\n"
     ]
    }
   ],
   "source": [
    "#convert string into boolean\n",
    "a = input(\"number\")\n",
    "b = bool(a)\n",
    "print(b)"
   ]
  },
  {
   "cell_type": "code",
   "execution_count": 3,
   "id": "b9e53121-af05-465a-8409-13fb0954c473",
   "metadata": {},
   "outputs": [
    {
     "name": "stdout",
     "output_type": "stream",
     "text": [
      "False\n"
     ]
    }
   ],
   "source": [
    "#convert string into boolean\n",
    "a = (\"\")\n",
    "b = bool(a)\n",
    "print(b)"
   ]
  },
  {
   "cell_type": "code",
   "execution_count": null,
   "id": "c90f0221-b741-4d39-a1a2-c9176a047e42",
   "metadata": {},
   "outputs": [],
   "source": [
    "Q10. Write code to demonstrate type casting with list elements?"
   ]
  },
  {
   "cell_type": "code",
   "execution_count": 1,
   "id": "ebc490ce-514b-43e6-8c75-b235e1611342",
   "metadata": {},
   "outputs": [
    {
     "name": "stdout",
     "output_type": "stream",
     "text": [
      "String to Integer: [123, '45.67', 89, True, None]\n",
      "String to Float: [123.0, 45.67, 89, True, None]\n",
      "Integer to String: ['123', '45.67', '89', 'True', None]\n",
      "Boolean to Integer: ['123', '45.67', 89, 1, None]\n",
      "None to String: ['123', '45.67', 89, True, 'None']\n"
     ]
    }
   ],
   "source": [
    "# Original list with different data types\n",
    "mixed_list = [\"123\", \"45.67\", 89, True, None]\n",
    "\n",
    "# Type casting examples\n",
    "# Convert string to integer\n",
    "int_list = [int(x) if isinstance(x, str) and x.isdigit() else x for x in mixed_list]\n",
    "print(f\"String to Integer: {int_list}\")\n",
    "\n",
    "# Convert string to float\n",
    "float_list = [float(x) if isinstance(x, str) else x for x in mixed_list]\n",
    "print(f\"String to Float: {float_list}\")\n",
    "\n",
    "# Convert integer to string\n",
    "str_list = [str(x) if isinstance(x, int) else x for x in mixed_list]\n",
    "print(f\"Integer to String: {str_list}\")\n",
    "\n",
    "# Convert boolean to integer (True -> 1, False -> 0)\n",
    "bool_to_int_list = [int(x) if isinstance(x, bool) else x for x in mixed_list]\n",
    "print(f\"Boolean to Integer: {bool_to_int_list}\")\n",
    "\n",
    "# Convert None to string\n",
    "none_to_str_list = [str(x) if x is None else x for x in mixed_list]\n",
    "print(f\"None to String: {none_to_str_list}\")"
   ]
  },
  {
   "cell_type": "code",
   "execution_count": null,
   "id": "5d4a8867-1cbe-4efd-a428-ff9f882a9bc7",
   "metadata": {},
   "outputs": [],
   "source": [
    "Q11. Write a program that checks if a number is positive, negative, or zero?"
   ]
  },
  {
   "cell_type": "code",
   "execution_count": 11,
   "id": "fed06a98-d9ee-4e34-89d1-462e653433cc",
   "metadata": {},
   "outputs": [
    {
     "name": "stdin",
     "output_type": "stream",
     "text": [
      "Enter a number: 1\n"
     ]
    },
    {
     "name": "stdout",
     "output_type": "stream",
     "text": [
      "num is positive\n"
     ]
    }
   ],
   "source": [
    "num = float(input(\"Enter a number:\"))\n",
    "if num > 0:\n",
    "    print(\"num is positive\")\n",
    "elif num < 0:\n",
    "    print(\"num is negative\")\n",
    "else:\n",
    "    print(\"num is zero\")"
   ]
  },
  {
   "cell_type": "code",
   "execution_count": 13,
   "id": "f27a0440-292f-4858-a702-4d9f1408b76d",
   "metadata": {},
   "outputs": [
    {
     "name": "stdin",
     "output_type": "stream",
     "text": [
      "Enter a number: 0\n"
     ]
    },
    {
     "name": "stdout",
     "output_type": "stream",
     "text": [
      "num is zero\n"
     ]
    }
   ],
   "source": [
    "num = float(input(\"Enter a number:\"))\n",
    "if num > 0:\n",
    "    print(\"num is positive\")\n",
    "elif num < 0:\n",
    "    print(\"num is negative\")\n",
    "else:\n",
    "    print(\"num is zero\")\n"
   ]
  },
  {
   "cell_type": "code",
   "execution_count": 15,
   "id": "394c0813-baa6-4f79-9dba-6c71e5cb1b5f",
   "metadata": {},
   "outputs": [
    {
     "name": "stdin",
     "output_type": "stream",
     "text": [
      "Enter a number: -2\n"
     ]
    },
    {
     "name": "stdout",
     "output_type": "stream",
     "text": [
      "num is negative\n"
     ]
    }
   ],
   "source": [
    "num = float(input(\"Enter a number:\"))\n",
    "if num > 0:\n",
    "    print(\"num is positive\")\n",
    "elif num < 0:\n",
    "    print(\"num is negative\")\n",
    "else:\n",
    "    print(\"num is zero\")"
   ]
  },
  {
   "cell_type": "code",
   "execution_count": null,
   "id": "25b95eac-be1c-471a-a625-39d08638d170",
   "metadata": {},
   "outputs": [],
   "source": [
    "Q12.Write a for loop to print numbers from 1 to 10."
   ]
  },
  {
   "cell_type": "code",
   "execution_count": 21,
   "id": "907fa6d3-6257-478e-ac71-a003008e2b37",
   "metadata": {},
   "outputs": [
    {
     "name": "stdout",
     "output_type": "stream",
     "text": [
      "12345678910"
     ]
    }
   ],
   "source": [
    "for i in range(1,11):\n",
    "    print(i,end=\"\")"
   ]
  },
  {
   "cell_type": "code",
   "execution_count": null,
   "id": "9feef44c-2a1a-4e74-a12c-8464137da206",
   "metadata": {},
   "outputs": [],
   "source": [
    "Q13. Write a Python program to find the sum of all even numbers between 1 and 50."
   ]
  },
  {
   "cell_type": "code",
   "execution_count": 5,
   "id": "0426fc69-1f06-4a50-8fd1-fcc189b70669",
   "metadata": {},
   "outputs": [
    {
     "name": "stdout",
     "output_type": "stream",
     "text": [
      "2\n",
      "4\n",
      "6\n",
      "8\n",
      "10\n",
      "12\n",
      "14\n",
      "16\n",
      "18\n",
      "20\n",
      "22\n",
      "24\n",
      "26\n",
      "28\n",
      "30\n",
      "32\n",
      "34\n",
      "36\n",
      "38\n",
      "40\n",
      "42\n",
      "44\n",
      "46\n",
      "48\n",
      "50\n",
      "Sum of all the even numbers is 650\n"
     ]
    }
   ],
   "source": [
    "num = range(50)\n",
    "sum = 0\n",
    "for i in range(1,51):\n",
    "    if i % 2 == 0:    # Check if the number is even\n",
    "        print(i)\n",
    "        sum+=i  # Add the even number to the sum\n",
    "\n",
    "print(f\"Sum of all the even numbers is {sum}\")"
   ]
  },
  {
   "cell_type": "code",
   "execution_count": null,
   "id": "adbbb0b8-2c5e-468d-b44b-eb279e1de20b",
   "metadata": {},
   "outputs": [],
   "source": [
    "Q14. Write a program to reverse a string using a while loop?"
   ]
  },
  {
   "cell_type": "code",
   "execution_count": 24,
   "id": "4c4a11fe-5de7-4c92-8ba6-400dcbe08bf6",
   "metadata": {},
   "outputs": [
    {
     "name": "stdout",
     "output_type": "stream",
     "text": [
      "The original string  is :  Jatin\n",
      "The reversed string using a while loop is :  nitaJ\n"
     ]
    }
   ],
   "source": [
    "str = \"Jatin\"\n",
    "print (\"The original string  is : \",str)   \n",
    "reverse_String = \"\"  \n",
    "count = len(str) \n",
    "while count > 0:   \n",
    "    reverse_String += str[ count - 1 ] \n",
    "    count = count - 1 \n",
    "print (\"The reversed string using a while loop is : \",reverse_String)"
   ]
  },
  {
   "cell_type": "code",
   "execution_count": null,
   "id": "0c10e978-58e6-42f0-b311-db31d2edf827",
   "metadata": {},
   "outputs": [],
   "source": [
    "Q15. Write a Python program to calculate the factorial of a number provided by the user using a while loop."
   ]
  },
  {
   "cell_type": "code",
   "execution_count": 42,
   "id": "f82fed66-6509-497a-bb77-8dfb5e0235e9",
   "metadata": {},
   "outputs": [
    {
     "name": "stdin",
     "output_type": "stream",
     "text": [
      "factorial:  5\n"
     ]
    },
    {
     "name": "stdout",
     "output_type": "stream",
     "text": [
      "120\n"
     ]
    },
    {
     "name": "stdin",
     "output_type": "stream",
     "text": [
      "factorial:  6\n"
     ]
    },
    {
     "name": "stdout",
     "output_type": "stream",
     "text": [
      "720\n"
     ]
    },
    {
     "name": "stdin",
     "output_type": "stream",
     "text": [
      "factorial:  0\n"
     ]
    },
    {
     "name": "stdout",
     "output_type": "stream",
     "text": [
      "0\n"
     ]
    }
   ],
   "source": [
    "factorial=1\n",
    "n=1\n",
    "while True:\n",
    "    num=int(input(\"factorial: \"))\n",
    "    if num<=0:\n",
    "        print(\"0\")\n",
    "        break\n",
    "    while n<num:\n",
    "        n+=1\n",
    "        factorial*=n\n",
    "    print(factorial)"
   ]
  },
  {
   "cell_type": "code",
   "execution_count": null,
   "id": "a35e3c8f-7653-4d9c-b8ab-05e0596a40a5",
   "metadata": {},
   "outputs": [],
   "source": []
  },
  {
   "cell_type": "code",
   "execution_count": null,
   "id": "e28a2e2b-9427-4b50-b35f-ed120693df4f",
   "metadata": {},
   "outputs": [],
   "source": []
  }
 ],
 "metadata": {
  "kernelspec": {
   "display_name": "Python 3 (ipykernel)",
   "language": "python",
   "name": "python3"
  },
  "language_info": {
   "codemirror_mode": {
    "name": "ipython",
    "version": 3
   },
   "file_extension": ".py",
   "mimetype": "text/x-python",
   "name": "python",
   "nbconvert_exporter": "python",
   "pygments_lexer": "ipython3",
   "version": "3.12.7"
  }
 },
 "nbformat": 4,
 "nbformat_minor": 5
}
